{
 "cells": [
  {
   "cell_type": "markdown",
   "metadata": {},
   "source": [
    "# Data Cleaning and Merging"
   ]
  },
  {
   "cell_type": "code",
   "execution_count": 2,
   "metadata": {},
   "outputs": [],
   "source": [
    "import pandas as pd"
   ]
  },
  {
   "cell_type": "markdown",
   "metadata": {},
   "source": [
    "# Citibike Data"
   ]
  },
  {
   "cell_type": "code",
   "execution_count": 3,
   "metadata": {},
   "outputs": [],
   "source": [
    "citibike_df = pd.read_csv(r\"https://raw.githubusercontent.com/s-surya-s/IA-Final/main/1_Data/citibike_data.csv\", sep = \",\", engine = 'python').astype(str)"
   ]
  },
  {
   "cell_type": "code",
   "execution_count": 4,
   "metadata": {},
   "outputs": [
    {
     "data": {
      "text/plain": [
       "'No Duplicates'"
      ]
     },
     "execution_count": 4,
     "metadata": {},
     "output_type": "execute_result"
    }
   ],
   "source": [
    "# Check Duplicates\n",
    "'Duplicates Found' if citibike_df.duplicated().any() else 'No Duplicates'"
   ]
  },
  {
   "cell_type": "code",
   "execution_count": 5,
   "metadata": {},
   "outputs": [
    {
     "data": {
      "text/plain": [
       "'Nulls Found'"
      ]
     },
     "execution_count": 5,
     "metadata": {},
     "output_type": "execute_result"
    }
   ],
   "source": [
    "#Check Nulls\n",
    "citibike_df.replace('nan', None, inplace=True)\n",
    "\n",
    "'Nulls Found' if citibike_df.isnull().sum().sum() else 'No Nulls'"
   ]
  },
  {
   "cell_type": "code",
   "execution_count": 6,
   "metadata": {},
   "outputs": [
    {
     "data": {
      "text/plain": [
       "ride_id                0\n",
       "rideable_type          0\n",
       "started_at             0\n",
       "ended_at               0\n",
       "start_station_name     0\n",
       "start_station_id       0\n",
       "end_station_name      77\n",
       "end_station_id        83\n",
       "start_lat              0\n",
       "start_lng              0\n",
       "end_lat               12\n",
       "end_lng               12\n",
       "member_casual          0\n",
       "dtype: int64"
      ]
     },
     "execution_count": 6,
     "metadata": {},
     "output_type": "execute_result"
    }
   ],
   "source": [
    "citibike_df.isnull().sum()"
   ]
  },
  {
   "cell_type": "markdown",
   "metadata": {},
   "source": [
    "Since the number of nulls is very low. We can drop these rows with null values"
   ]
  },
  {
   "cell_type": "code",
   "execution_count": 7,
   "metadata": {},
   "outputs": [
    {
     "data": {
      "text/plain": [
       "'No Nulls'"
      ]
     },
     "execution_count": 7,
     "metadata": {},
     "output_type": "execute_result"
    }
   ],
   "source": [
    "citibike_df = citibike_df.dropna()\n",
    "\n",
    "'Nulls Found' if citibike_df.isnull().sum().sum() else 'No Nulls'"
   ]
  },
  {
   "cell_type": "markdown",
   "metadata": {},
   "source": [
    "# Weather Data"
   ]
  },
  {
   "cell_type": "code",
   "execution_count": 8,
   "metadata": {},
   "outputs": [],
   "source": [
    "weather_df = pd.read_csv(r'https://raw.githubusercontent.com/s-surya-s/IA-Final/main/1_Data/weather_data.csv')\n",
    "weather_df = weather_df [['datetime', 'temp', 'icon']]"
   ]
  },
  {
   "cell_type": "code",
   "execution_count": 9,
   "metadata": {},
   "outputs": [
    {
     "data": {
      "text/plain": [
       "'No Duplicates'"
      ]
     },
     "execution_count": 9,
     "metadata": {},
     "output_type": "execute_result"
    }
   ],
   "source": [
    "# Check Duplicates\n",
    "'Duplicates Found' if weather_df.duplicated().any() else 'No Duplicates'"
   ]
  },
  {
   "cell_type": "code",
   "execution_count": 10,
   "metadata": {},
   "outputs": [
    {
     "data": {
      "text/plain": [
       "'No Nulls'"
      ]
     },
     "execution_count": 10,
     "metadata": {},
     "output_type": "execute_result"
    }
   ],
   "source": [
    "#Check Nulls\n",
    "weather_df.replace('nan', None, inplace=True)\n",
    "'Nulls Found' if weather_df.isnull().sum().sum() != 0 else 'No Nulls'"
   ]
  },
  {
   "cell_type": "markdown",
   "metadata": {},
   "source": [
    "# Merged Data"
   ]
  },
  {
   "cell_type": "code",
   "execution_count": 11,
   "metadata": {},
   "outputs": [
    {
     "data": {
      "text/html": [
       "<div>\n",
       "<style scoped>\n",
       "    .dataframe tbody tr th:only-of-type {\n",
       "        vertical-align: middle;\n",
       "    }\n",
       "\n",
       "    .dataframe tbody tr th {\n",
       "        vertical-align: top;\n",
       "    }\n",
       "\n",
       "    .dataframe thead th {\n",
       "        text-align: right;\n",
       "    }\n",
       "</style>\n",
       "<table border=\"1\" class=\"dataframe\">\n",
       "  <thead>\n",
       "    <tr style=\"text-align: right;\">\n",
       "      <th></th>\n",
       "      <th>ride_id</th>\n",
       "      <th>rideable_type</th>\n",
       "      <th>started_at</th>\n",
       "      <th>ended_at</th>\n",
       "      <th>start_station_name</th>\n",
       "      <th>start_station_id</th>\n",
       "      <th>end_station_name</th>\n",
       "      <th>end_station_id</th>\n",
       "      <th>start_lat</th>\n",
       "      <th>start_lng</th>\n",
       "      <th>end_lat</th>\n",
       "      <th>end_lng</th>\n",
       "      <th>member_casual</th>\n",
       "      <th>ride_date</th>\n",
       "      <th>ride_hour</th>\n",
       "      <th>temp</th>\n",
       "      <th>icon</th>\n",
       "    </tr>\n",
       "  </thead>\n",
       "  <tbody>\n",
       "    <tr>\n",
       "      <th>0</th>\n",
       "      <td>A47BFF9C94BC0A0C</td>\n",
       "      <td>classic_bike</td>\n",
       "      <td>2023-12-24 01:23:39</td>\n",
       "      <td>2023-12-24 01:31:33</td>\n",
       "      <td>W 82 St &amp; Central Park West</td>\n",
       "      <td>7304</td>\n",
       "      <td>Broadway &amp; W 56 St</td>\n",
       "      <td>6847</td>\n",
       "      <td>40.782935023</td>\n",
       "      <td>-73.97187984</td>\n",
       "      <td>40.7652654</td>\n",
       "      <td>-73.98192338</td>\n",
       "      <td>member</td>\n",
       "      <td>2023-12-24</td>\n",
       "      <td>1</td>\n",
       "      <td>6.1</td>\n",
       "      <td>partly-cloudy-night</td>\n",
       "    </tr>\n",
       "    <tr>\n",
       "      <th>1</th>\n",
       "      <td>11248CA60364D171</td>\n",
       "      <td>classic_bike</td>\n",
       "      <td>2023-12-24 01:18:23</td>\n",
       "      <td>2023-12-24 01:31:57</td>\n",
       "      <td>Central Park W &amp; W 91 St</td>\n",
       "      <td>7453</td>\n",
       "      <td>East End Ave &amp; E 86 St</td>\n",
       "      <td>7113</td>\n",
       "      <td>40.788738966</td>\n",
       "      <td>-73.966504455</td>\n",
       "      <td>40.77518615</td>\n",
       "      <td>-73.94446054</td>\n",
       "      <td>casual</td>\n",
       "      <td>2023-12-24</td>\n",
       "      <td>1</td>\n",
       "      <td>6.1</td>\n",
       "      <td>partly-cloudy-night</td>\n",
       "    </tr>\n",
       "    <tr>\n",
       "      <th>2</th>\n",
       "      <td>DF8B521B0B7C0B3B</td>\n",
       "      <td>classic_bike</td>\n",
       "      <td>2023-12-24 01:16:43</td>\n",
       "      <td>2023-12-24 01:29:45</td>\n",
       "      <td>Central Park W &amp; W 91 St</td>\n",
       "      <td>7453</td>\n",
       "      <td>E 81 St &amp; 3 Ave</td>\n",
       "      <td>7154</td>\n",
       "      <td>40.788673759</td>\n",
       "      <td>-73.966587186</td>\n",
       "      <td>40.77573034</td>\n",
       "      <td>-73.9567526</td>\n",
       "      <td>member</td>\n",
       "      <td>2023-12-24</td>\n",
       "      <td>1</td>\n",
       "      <td>6.1</td>\n",
       "      <td>partly-cloudy-night</td>\n",
       "    </tr>\n",
       "    <tr>\n",
       "      <th>3</th>\n",
       "      <td>C7F54940929FB07A</td>\n",
       "      <td>classic_bike</td>\n",
       "      <td>2023-12-24 01:18:15</td>\n",
       "      <td>2023-12-24 01:33:27</td>\n",
       "      <td>Central Park W &amp; W 91 St</td>\n",
       "      <td>7453</td>\n",
       "      <td>E 84 St &amp; 1 Ave</td>\n",
       "      <td>7180</td>\n",
       "      <td>40.788849115</td>\n",
       "      <td>-73.966679454</td>\n",
       "      <td>40.77565541</td>\n",
       "      <td>-73.95068615</td>\n",
       "      <td>casual</td>\n",
       "      <td>2023-12-24</td>\n",
       "      <td>1</td>\n",
       "      <td>6.1</td>\n",
       "      <td>partly-cloudy-night</td>\n",
       "    </tr>\n",
       "    <tr>\n",
       "      <th>4</th>\n",
       "      <td>8A1A2655D1078F23</td>\n",
       "      <td>classic_bike</td>\n",
       "      <td>2023-12-24 01:17:19</td>\n",
       "      <td>2023-12-24 01:29:14</td>\n",
       "      <td>Central Park W &amp; W 91 St</td>\n",
       "      <td>7453</td>\n",
       "      <td>E 89 St &amp; 3 Ave</td>\n",
       "      <td>7265</td>\n",
       "      <td>40.788808227</td>\n",
       "      <td>-73.966622949</td>\n",
       "      <td>40.7806284</td>\n",
       "      <td>-73.9521667</td>\n",
       "      <td>casual</td>\n",
       "      <td>2023-12-24</td>\n",
       "      <td>1</td>\n",
       "      <td>6.1</td>\n",
       "      <td>partly-cloudy-night</td>\n",
       "    </tr>\n",
       "  </tbody>\n",
       "</table>\n",
       "</div>"
      ],
      "text/plain": [
       "            ride_id rideable_type          started_at            ended_at  \\\n",
       "0  A47BFF9C94BC0A0C  classic_bike 2023-12-24 01:23:39 2023-12-24 01:31:33   \n",
       "1  11248CA60364D171  classic_bike 2023-12-24 01:18:23 2023-12-24 01:31:57   \n",
       "2  DF8B521B0B7C0B3B  classic_bike 2023-12-24 01:16:43 2023-12-24 01:29:45   \n",
       "3  C7F54940929FB07A  classic_bike 2023-12-24 01:18:15 2023-12-24 01:33:27   \n",
       "4  8A1A2655D1078F23  classic_bike 2023-12-24 01:17:19 2023-12-24 01:29:14   \n",
       "\n",
       "            start_station_name start_station_id        end_station_name  \\\n",
       "0  W 82 St & Central Park West             7304      Broadway & W 56 St   \n",
       "1     Central Park W & W 91 St             7453  East End Ave & E 86 St   \n",
       "2     Central Park W & W 91 St             7453         E 81 St & 3 Ave   \n",
       "3     Central Park W & W 91 St             7453         E 84 St & 1 Ave   \n",
       "4     Central Park W & W 91 St             7453         E 89 St & 3 Ave   \n",
       "\n",
       "  end_station_id     start_lat      start_lng      end_lat       end_lng  \\\n",
       "0           6847  40.782935023   -73.97187984   40.7652654  -73.98192338   \n",
       "1           7113  40.788738966  -73.966504455  40.77518615  -73.94446054   \n",
       "2           7154  40.788673759  -73.966587186  40.77573034   -73.9567526   \n",
       "3           7180  40.788849115  -73.966679454  40.77565541  -73.95068615   \n",
       "4           7265  40.788808227  -73.966622949   40.7806284   -73.9521667   \n",
       "\n",
       "  member_casual   ride_date  ride_hour  temp                 icon  \n",
       "0        member  2023-12-24          1   6.1  partly-cloudy-night  \n",
       "1        casual  2023-12-24          1   6.1  partly-cloudy-night  \n",
       "2        member  2023-12-24          1   6.1  partly-cloudy-night  \n",
       "3        casual  2023-12-24          1   6.1  partly-cloudy-night  \n",
       "4        casual  2023-12-24          1   6.1  partly-cloudy-night  "
      ]
     },
     "execution_count": 11,
     "metadata": {},
     "output_type": "execute_result"
    }
   ],
   "source": [
    "# Change Datatype\n",
    "citibike_df['started_at'] = pd.to_datetime(citibike_df['started_at'], format='%m/%d/%Y %I:%M:%S %p')\n",
    "citibike_df['ended_at']   = pd.to_datetime(citibike_df['ended_at'], format='%m/%d/%Y %I:%M:%S %p')\n",
    "citibike_df['start_station_id'] = citibike_df['start_station_id'].astype(float).astype(int).astype(str)\n",
    "citibike_df['end_station_id'] = citibike_df['end_station_id'].astype(float).astype(int).astype(str)\n",
    "\n",
    "# Extract the date and hour from both DataFrames\n",
    "citibike_df['ride_date'] = citibike_df['started_at'].dt.date\n",
    "citibike_df['ride_hour'] = citibike_df['started_at'].dt.hour\n",
    "weather_df['ride_date'] = pd.to_datetime(weather_df['datetime']).dt.date\n",
    "weather_df['ride_hour'] = pd.to_datetime(weather_df['datetime']).dt.hour\n",
    "\n",
    "merged_df = citibike_df.merge(weather_df, on=['ride_date', 'ride_hour'], how='inner')\n",
    "\n",
    "merged_df.drop(columns='datetime', inplace=True)\n",
    "\n",
    "merged_df.head()"
   ]
  },
  {
   "cell_type": "markdown",
   "metadata": {},
   "source": [
    "## Calculated Fields"
   ]
  },
  {
   "cell_type": "code",
   "execution_count": 28,
   "metadata": {},
   "outputs": [
    {
     "data": {
      "text/html": [
       "<div>\n",
       "<style scoped>\n",
       "    .dataframe tbody tr th:only-of-type {\n",
       "        vertical-align: middle;\n",
       "    }\n",
       "\n",
       "    .dataframe tbody tr th {\n",
       "        vertical-align: top;\n",
       "    }\n",
       "\n",
       "    .dataframe thead th {\n",
       "        text-align: right;\n",
       "    }\n",
       "</style>\n",
       "<table border=\"1\" class=\"dataframe\">\n",
       "  <thead>\n",
       "    <tr style=\"text-align: right;\">\n",
       "      <th></th>\n",
       "      <th>ride_id</th>\n",
       "      <th>rideable_type</th>\n",
       "      <th>started_at</th>\n",
       "      <th>ended_at</th>\n",
       "      <th>start_station_name</th>\n",
       "      <th>start_station_id</th>\n",
       "      <th>end_station_name</th>\n",
       "      <th>end_station_id</th>\n",
       "      <th>start_lat</th>\n",
       "      <th>start_lng</th>\n",
       "      <th>end_lat</th>\n",
       "      <th>end_lng</th>\n",
       "      <th>member_casual</th>\n",
       "      <th>ride_date</th>\n",
       "      <th>ride_hour</th>\n",
       "      <th>temp</th>\n",
       "      <th>icon</th>\n",
       "      <th>ride_duration</th>\n",
       "      <th>fare</th>\n",
       "    </tr>\n",
       "  </thead>\n",
       "  <tbody>\n",
       "    <tr>\n",
       "      <th>0</th>\n",
       "      <td>A47BFF9C94BC0A0C</td>\n",
       "      <td>classic_bike</td>\n",
       "      <td>2023-12-24 01:23:39</td>\n",
       "      <td>2023-12-24 01:31:33</td>\n",
       "      <td>W 82 St &amp; Central Park West</td>\n",
       "      <td>7304</td>\n",
       "      <td>Broadway &amp; W 56 St</td>\n",
       "      <td>6847</td>\n",
       "      <td>40.782935023</td>\n",
       "      <td>-73.97187984</td>\n",
       "      <td>40.7652654</td>\n",
       "      <td>-73.98192338</td>\n",
       "      <td>member</td>\n",
       "      <td>2023-12-24</td>\n",
       "      <td>1</td>\n",
       "      <td>6.1</td>\n",
       "      <td>partly-cloudy-night</td>\n",
       "      <td>7.90</td>\n",
       "      <td>0.00</td>\n",
       "    </tr>\n",
       "    <tr>\n",
       "      <th>1</th>\n",
       "      <td>11248CA60364D171</td>\n",
       "      <td>classic_bike</td>\n",
       "      <td>2023-12-24 01:18:23</td>\n",
       "      <td>2023-12-24 01:31:57</td>\n",
       "      <td>Central Park W &amp; W 91 St</td>\n",
       "      <td>7453</td>\n",
       "      <td>East End Ave &amp; E 86 St</td>\n",
       "      <td>7113</td>\n",
       "      <td>40.788738966</td>\n",
       "      <td>-73.966504455</td>\n",
       "      <td>40.77518615</td>\n",
       "      <td>-73.94446054</td>\n",
       "      <td>casual</td>\n",
       "      <td>2023-12-24</td>\n",
       "      <td>1</td>\n",
       "      <td>6.1</td>\n",
       "      <td>partly-cloudy-night</td>\n",
       "      <td>13.57</td>\n",
       "      <td>4.79</td>\n",
       "    </tr>\n",
       "    <tr>\n",
       "      <th>2</th>\n",
       "      <td>DF8B521B0B7C0B3B</td>\n",
       "      <td>classic_bike</td>\n",
       "      <td>2023-12-24 01:16:43</td>\n",
       "      <td>2023-12-24 01:29:45</td>\n",
       "      <td>Central Park W &amp; W 91 St</td>\n",
       "      <td>7453</td>\n",
       "      <td>E 81 St &amp; 3 Ave</td>\n",
       "      <td>7154</td>\n",
       "      <td>40.788673759</td>\n",
       "      <td>-73.966587186</td>\n",
       "      <td>40.77573034</td>\n",
       "      <td>-73.9567526</td>\n",
       "      <td>member</td>\n",
       "      <td>2023-12-24</td>\n",
       "      <td>1</td>\n",
       "      <td>6.1</td>\n",
       "      <td>partly-cloudy-night</td>\n",
       "      <td>13.03</td>\n",
       "      <td>0.00</td>\n",
       "    </tr>\n",
       "    <tr>\n",
       "      <th>3</th>\n",
       "      <td>C7F54940929FB07A</td>\n",
       "      <td>classic_bike</td>\n",
       "      <td>2023-12-24 01:18:15</td>\n",
       "      <td>2023-12-24 01:33:27</td>\n",
       "      <td>Central Park W &amp; W 91 St</td>\n",
       "      <td>7453</td>\n",
       "      <td>E 84 St &amp; 1 Ave</td>\n",
       "      <td>7180</td>\n",
       "      <td>40.788849115</td>\n",
       "      <td>-73.966679454</td>\n",
       "      <td>40.77565541</td>\n",
       "      <td>-73.95068615</td>\n",
       "      <td>casual</td>\n",
       "      <td>2023-12-24</td>\n",
       "      <td>1</td>\n",
       "      <td>6.1</td>\n",
       "      <td>partly-cloudy-night</td>\n",
       "      <td>15.20</td>\n",
       "      <td>4.79</td>\n",
       "    </tr>\n",
       "    <tr>\n",
       "      <th>4</th>\n",
       "      <td>8A1A2655D1078F23</td>\n",
       "      <td>classic_bike</td>\n",
       "      <td>2023-12-24 01:17:19</td>\n",
       "      <td>2023-12-24 01:29:14</td>\n",
       "      <td>Central Park W &amp; W 91 St</td>\n",
       "      <td>7453</td>\n",
       "      <td>E 89 St &amp; 3 Ave</td>\n",
       "      <td>7265</td>\n",
       "      <td>40.788808227</td>\n",
       "      <td>-73.966622949</td>\n",
       "      <td>40.7806284</td>\n",
       "      <td>-73.9521667</td>\n",
       "      <td>casual</td>\n",
       "      <td>2023-12-24</td>\n",
       "      <td>1</td>\n",
       "      <td>6.1</td>\n",
       "      <td>partly-cloudy-night</td>\n",
       "      <td>11.92</td>\n",
       "      <td>4.79</td>\n",
       "    </tr>\n",
       "  </tbody>\n",
       "</table>\n",
       "</div>"
      ],
      "text/plain": [
       "            ride_id rideable_type          started_at            ended_at  \\\n",
       "0  A47BFF9C94BC0A0C  classic_bike 2023-12-24 01:23:39 2023-12-24 01:31:33   \n",
       "1  11248CA60364D171  classic_bike 2023-12-24 01:18:23 2023-12-24 01:31:57   \n",
       "2  DF8B521B0B7C0B3B  classic_bike 2023-12-24 01:16:43 2023-12-24 01:29:45   \n",
       "3  C7F54940929FB07A  classic_bike 2023-12-24 01:18:15 2023-12-24 01:33:27   \n",
       "4  8A1A2655D1078F23  classic_bike 2023-12-24 01:17:19 2023-12-24 01:29:14   \n",
       "\n",
       "            start_station_name start_station_id        end_station_name  \\\n",
       "0  W 82 St & Central Park West             7304      Broadway & W 56 St   \n",
       "1     Central Park W & W 91 St             7453  East End Ave & E 86 St   \n",
       "2     Central Park W & W 91 St             7453         E 81 St & 3 Ave   \n",
       "3     Central Park W & W 91 St             7453         E 84 St & 1 Ave   \n",
       "4     Central Park W & W 91 St             7453         E 89 St & 3 Ave   \n",
       "\n",
       "  end_station_id     start_lat      start_lng      end_lat       end_lng  \\\n",
       "0           6847  40.782935023   -73.97187984   40.7652654  -73.98192338   \n",
       "1           7113  40.788738966  -73.966504455  40.77518615  -73.94446054   \n",
       "2           7154  40.788673759  -73.966587186  40.77573034   -73.9567526   \n",
       "3           7180  40.788849115  -73.966679454  40.77565541  -73.95068615   \n",
       "4           7265  40.788808227  -73.966622949   40.7806284   -73.9521667   \n",
       "\n",
       "  member_casual   ride_date  ride_hour  temp                 icon  \\\n",
       "0        member  2023-12-24          1   6.1  partly-cloudy-night   \n",
       "1        casual  2023-12-24          1   6.1  partly-cloudy-night   \n",
       "2        member  2023-12-24          1   6.1  partly-cloudy-night   \n",
       "3        casual  2023-12-24          1   6.1  partly-cloudy-night   \n",
       "4        casual  2023-12-24          1   6.1  partly-cloudy-night   \n",
       "\n",
       "   ride_duration  fare  \n",
       "0           7.90  0.00  \n",
       "1          13.57  4.79  \n",
       "2          13.03  0.00  \n",
       "3          15.20  4.79  \n",
       "4          11.92  4.79  "
      ]
     },
     "execution_count": 28,
     "metadata": {},
     "output_type": "execute_result"
    }
   ],
   "source": [
    "merged_df['ride_duration'] = ((merged_df['ended_at']-merged_df['started_at']).dt.total_seconds()/60).round(2)\n",
    "\n",
    "def calculate_fare(row):\n",
    "  # Base fare for non-members\n",
    "  base_fare = 4.79 if row['member_casual'] != \"member\" else 0\n",
    "\n",
    "  # Ebike fare for members and casual riders\n",
    "  ebike_fare = 0\n",
    "  if row['rideable_type'] == \"electric_bike\":\n",
    "    ebike_fare = row['ride_duration'] * (0.2 if row['member_casual'] == \"member\" else 0.3)\n",
    "\n",
    "  # Combine fares\n",
    "  return base_fare + ebike_fare\n",
    "\n",
    "# Apply function to create 'Fare' column\n",
    "merged_df['fare'] = merged_df.apply(calculate_fare, axis=1)\n",
    "\n",
    "merged_df.head()"
   ]
  },
  {
   "cell_type": "markdown",
   "metadata": {},
   "source": [
    "## Export Data"
   ]
  },
  {
   "cell_type": "code",
   "execution_count": 29,
   "metadata": {},
   "outputs": [],
   "source": [
    "merged_df.to_csv(r'D:\\Masters\\CourseWork\\Information Architecture\\IA-Final\\4.2_AWS_Staging_Zone\\citibike_weather_merged.csv', index = False)"
   ]
  }
 ],
 "metadata": {
  "kernelspec": {
   "display_name": "base",
   "language": "python",
   "name": "python3"
  },
  "language_info": {
   "codemirror_mode": {
    "name": "ipython",
    "version": 3
   },
   "file_extension": ".py",
   "mimetype": "text/x-python",
   "name": "python",
   "nbconvert_exporter": "python",
   "pygments_lexer": "ipython3",
   "version": "3.11.7"
  }
 },
 "nbformat": 4,
 "nbformat_minor": 2
}
